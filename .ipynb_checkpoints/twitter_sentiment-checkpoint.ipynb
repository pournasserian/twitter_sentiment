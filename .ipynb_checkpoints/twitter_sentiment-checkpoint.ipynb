{
 "cells": [
  {
   "cell_type": "code",
   "execution_count": 1,
   "metadata": {
    "collapsed": true
   },
   "outputs": [],
   "source": [
    "import tweepy\n",
    "from textblob import TextBlob"
   ]
  },
  {
   "cell_type": "code",
   "execution_count": 2,
   "metadata": {
    "collapsed": true
   },
   "outputs": [],
   "source": [
    "# Step 1 - Authenticate\n",
    "consumer_key= 'DjZQINSdfCpZ54nxlG6W5g'\n",
    "consumer_secret= 'bvMPkOJo65KCXKqNsmCYEXYiGCvXqh1NPI7iMNqR9Q'\n",
    "\n",
    "access_token='278647040-sgX4F2mbN4xYcfWVmJk6qGaXg8uu7PlfsokyU231'\n",
    "access_token_secret='Q3EIeuiG0PAoXzSaK6Eyd4gDMD8qTef40yNeddAriw'\n",
    "\n",
    "auth = tweepy.OAuthHandler(consumer_key, consumer_secret)\n",
    "auth.set_access_token(access_token, access_token_secret)\n",
    "\n",
    "api = tweepy.API(auth)"
   ]
  },
  {
   "cell_type": "code",
   "execution_count": 3,
   "metadata": {
    "collapsed": true
   },
   "outputs": [],
   "source": [
    "#Step 3 - Retrieve Tweets\n",
    "public_tweets = api.search('Trump')"
   ]
  },
  {
   "cell_type": "code",
   "execution_count": 4,
   "metadata": {
    "collapsed": false
   },
   "outputs": [
    {
     "name": "stdout",
     "output_type": "stream",
     "text": [
      "Man murders UPS driver thinking it was Trump, media silent https://t.co/EMzbdNkrws via @worldnetdaily\n",
      "Sentiment(polarity=0.0, subjectivity=0.1)\n",
      "\n",
      "RT @NYTNational: U.S. economy adds 156,000 jobs in December, a tepid ending to Obama era, even as Trump promises much bigger gains. https:/…\n",
      "Sentiment(polarity=0.0, subjectivity=0.5)\n",
      "\n",
      "RT @eileendefreest: When the muck hits the fan it will cost taxpayers millions to impeach Trump when all it should've taken is this to stop…\n",
      "Sentiment(polarity=0.0, subjectivity=0.0)\n",
      "\n",
      "RT @lilduval: Trump got 4 years to back up all that shit he be talking. This is why I don't trip. I believe in letting a person hang they s…\n",
      "Sentiment(polarity=-0.1, subjectivity=0.4)\n",
      "\n",
      "RT @TMZ: Arnold Schwarzenegger Tells Trumps To Focus on U.S., Not TV Ratings (VIDEO) https://t.co/Yv4lbnCyod\n",
      "Sentiment(polarity=0.0, subjectivity=0.0)\n",
      "\n",
      "RT @PrisonPlanet: MTV &amp; Billboard also promoted another song literally called \"f**k Donald Trump\". https://t.co/xZwDOdxK1b\n",
      "\n",
      "This is the cul…\n",
      "Sentiment(polarity=0.0, subjectivity=0.0)\n",
      "\n",
      "RT @traytrayolay: trump: \"we're sending  our battleships to russia\"\n",
      "#niggernavy: \"who all over there\"\n",
      "Sentiment(polarity=0.0, subjectivity=0.0)\n",
      "\n",
      "RT @missLtoe: Contractors file liens against trump's D.C. hotel, claiming they were stiffed $5 million https://t.co/KuZipoGIQy via @HuffPos…\n",
      "Sentiment(polarity=0.0, subjectivity=0.0)\n",
      "\n",
      "RT @SenSanders: Mr. Trump must make it clear that he will keep his word and veto any legislation that cuts Social Security, Medicare and Me…\n",
      "Sentiment(polarity=0.06666666666666668, subjectivity=0.22499999999999998)\n",
      "\n",
      "RT @nycsouthpaw: Trump can't accomplish a peaceful transfer of power on Celebrity Apprentice.\n",
      "Sentiment(polarity=0.25, subjectivity=0.5)\n",
      "\n",
      "RT @DailyCaller: Opinion: More Citizen-Ambassadors, Please, Mr. Trump https://t.co/0QngTEGEVd https://t.co/rJhhSzIswz\n",
      "Sentiment(polarity=0.5, subjectivity=0.5)\n",
      "\n",
      "RT @Evan_McMullin: General Mattis is a leader of great character. That's the underlying reason for these clashes with Trump's team. https:/…\n",
      "Sentiment(polarity=0.42500000000000004, subjectivity=0.625)\n",
      "\n",
      "RT @kylegriffin1: Today, Trump is receiving an important intel briefing on Russia's interference in the US election—and he's tweeting about…\n",
      "Sentiment(polarity=0.4, subjectivity=1.0)\n",
      "\n",
      "Massive Kritik - US-Starökonom Larry Summers sauer: \"Trump erpresst Unternehmen\" https://t.co/QVJlWWrBkt\n",
      "Sentiment(polarity=0.0, subjectivity=1.0)\n",
      "\n",
      "Trump me cae como una patada en los huevos\n",
      "Sentiment(polarity=0.0, subjectivity=0.0)\n",
      "\n"
     ]
    }
   ],
   "source": [
    "#CHALLENGE - Instead of printing out each tweet, save each Tweet to a CSV file\n",
    "#and label each one as either 'positive' or 'negative', depending on the sentiment \n",
    "#You can decide the sentiment polarity threshold yourself\n",
    "\n",
    "\n",
    "for tweet in public_tweets:\n",
    "    print(tweet.text)\n",
    "    \n",
    "    #Step 4 Perform Sentiment Analysis on Tweets\n",
    "    analysis = TextBlob(tweet.text)\n",
    "    print(analysis.sentiment)\n",
    "    print(\"\")"
   ]
  },
  {
   "cell_type": "code",
   "execution_count": null,
   "metadata": {
    "collapsed": true
   },
   "outputs": [],
   "source": []
  }
 ],
 "metadata": {
  "anaconda-cloud": {},
  "kernelspec": {
   "display_name": "Python [conda root]",
   "language": "python",
   "name": "conda-root-py"
  },
  "language_info": {
   "codemirror_mode": {
    "name": "ipython",
    "version": 3
   },
   "file_extension": ".py",
   "mimetype": "text/x-python",
   "name": "python",
   "nbconvert_exporter": "python",
   "pygments_lexer": "ipython3",
   "version": "3.5.2"
  }
 },
 "nbformat": 4,
 "nbformat_minor": 1
}
